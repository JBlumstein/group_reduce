{
 "cells": [
  {
   "cell_type": "code",
   "execution_count": 1,
   "metadata": {
    "collapsed": true
   },
   "outputs": [],
   "source": [
    "import pandas as pd\n",
    "import groupreduce as gr\n",
    "import random"
   ]
  },
  {
   "cell_type": "code",
   "execution_count": 2,
   "metadata": {
    "collapsed": false
   },
   "outputs": [],
   "source": [
    "df = pd.read_csv('testcsv.csv')"
   ]
  },
  {
   "cell_type": "code",
   "execution_count": 3,
   "metadata": {
    "collapsed": false
   },
   "outputs": [],
   "source": [
    "results = gr.k_means(df)"
   ]
  },
  {
   "cell_type": "code",
   "execution_count": 4,
   "metadata": {
    "collapsed": false
   },
   "outputs": [
    {
     "data": {
      "text/plain": [
       "{'groupings': [['folk',\n",
       "   'singer_songwriter',\n",
       "   'indie',\n",
       "   'indie_rock',\n",
       "   'rock',\n",
       "   'alternative',\n",
       "   'indie_pop',\n",
       "   'alternative_rock',\n",
       "   'female_vocalists',\n",
       "   'pop',\n",
       "   'lo_fi',\n",
       "   'post_punk',\n",
       "   'punk',\n",
       "   'psychedelic',\n",
       "   'math_rock',\n",
       "   'americana',\n",
       "   'blues',\n",
       "   'hardcore'],\n",
       "  ['rap', 'hip_hop'],\n",
       "  ['idm',\n",
       "   'electronic',\n",
       "   'electronica',\n",
       "   'ambient',\n",
       "   'experimental',\n",
       "   'techno',\n",
       "   'dubstep',\n",
       "   'electro',\n",
       "   'instrumental',\n",
       "   'post_rock',\n",
       "   'noise',\n",
       "   'jazz',\n",
       "   'progressive_rock',\n",
       "   'r&b',\n",
       "   'soul',\n",
       "   'black_metal'],\n",
       "  ['classic_rock'],\n",
       "  ['emo'],\n",
       "  ['trip_hop'],\n",
       "  ['dream_pop', 'shoegaze'],\n",
       "  ['noise_rock']],\n",
       " 'inertia': 34.634089451687586}"
      ]
     },
     "execution_count": 4,
     "metadata": {},
     "output_type": "execute_result"
    }
   ],
   "source": [
    "results['best_result']"
   ]
  }
 ],
 "metadata": {
  "kernelspec": {
   "display_name": "Python 3",
   "language": "python",
   "name": "python3"
  },
  "language_info": {
   "codemirror_mode": {
    "name": "ipython",
    "version": 3
   },
   "file_extension": ".py",
   "mimetype": "text/x-python",
   "name": "python",
   "nbconvert_exporter": "python",
   "pygments_lexer": "ipython3",
   "version": "3.4.4"
  }
 },
 "nbformat": 4,
 "nbformat_minor": 0
}
