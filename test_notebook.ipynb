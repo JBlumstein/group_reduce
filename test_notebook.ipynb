{
 "cells": [
  {
   "cell_type": "code",
   "execution_count": 1,
   "metadata": {
    "collapsed": true
   },
   "outputs": [],
   "source": [
    "import pandas as pd\n",
    "import groupreduce as gr\n",
    "import random"
   ]
  },
  {
   "cell_type": "code",
   "execution_count": 2,
   "metadata": {
    "collapsed": false
   },
   "outputs": [],
   "source": [
    "df = pd.read_csv('testcsv.csv')"
   ]
  },
  {
   "cell_type": "code",
   "execution_count": 3,
   "metadata": {
    "collapsed": false
   },
   "outputs": [],
   "source": [
    "gr.k_means(df,8)"
   ]
  },
  {
   "cell_type": "code",
   "execution_count": 4,
   "metadata": {
    "collapsed": false
   },
   "outputs": [
    {
     "data": {
      "text/plain": [
       "[['indie_rock',\n",
       "  'indie',\n",
       "  'rock',\n",
       "  'indie_pop',\n",
       "  'emo',\n",
       "  'alternative',\n",
       "  'alternative_rock',\n",
       "  'lo_fi',\n",
       "  'post_punk',\n",
       "  'punk',\n",
       "  'math_rock',\n",
       "  'pop',\n",
       "  'noise_rock',\n",
       "  'psychedelic',\n",
       "  'hardcore'],\n",
       " ['rap', 'hip_hop'],\n",
       " ['idm',\n",
       "  'electronic',\n",
       "  'ambient',\n",
       "  'electronica',\n",
       "  'techno',\n",
       "  'experimental',\n",
       "  'dubstep',\n",
       "  'electro'],\n",
       " ['classic_rock'],\n",
       " ['trip_hop', 'soul'],\n",
       " ['singer_songwriter', 'folk', 'female_vocalists', 'americana', 'blues'],\n",
       " ['instrumental',\n",
       "  'post_rock',\n",
       "  'jazz',\n",
       "  'noise',\n",
       "  'progressive_rock',\n",
       "  'black_metal',\n",
       "  'r&b'],\n",
       " ['dream_pop', 'shoegaze']]"
      ]
     },
     "execution_count": 4,
     "metadata": {},
     "output_type": "execute_result"
    }
   ],
   "source": [
    "gr.GroupCluster.group_cluster_names"
   ]
  }
 ],
 "metadata": {
  "kernelspec": {
   "display_name": "Python 3",
   "language": "python",
   "name": "python3"
  },
  "language_info": {
   "codemirror_mode": {
    "name": "ipython",
    "version": 3
   },
   "file_extension": ".py",
   "mimetype": "text/x-python",
   "name": "python",
   "nbconvert_exporter": "python",
   "pygments_lexer": "ipython3",
   "version": "3.4.4"
  }
 },
 "nbformat": 4,
 "nbformat_minor": 0
}
